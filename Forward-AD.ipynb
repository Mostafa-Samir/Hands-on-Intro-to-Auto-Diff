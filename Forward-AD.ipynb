{
 "cells": [
  {
   "cell_type": "markdown",
   "metadata": {},
   "source": [
    "## Forward Mode Auto-Diff"
   ]
  },
  {
   "cell_type": "markdown",
   "metadata": {},
   "source": [
    "### Single Variable Function\n",
    "\n",
    "$$f(x) = (\\sin x)^{\\sin x}$$\n",
    "$$f'(x) = (\\sin x)^{\\sin x} \\cos x (1 + \\ln \\sin x)$$\n",
    "$$\\therefore f'(\\frac{\\pi}{4}) = \\left(\\frac{\\sqrt{2}}{2}\\right)^{\\frac{\\sqrt{2}}{2} + 1}\\left(1 + \\ln \\frac{\\sqrt{2}}{2}\\right) \\approx 0.3616192241$$"
   ]
  },
  {
   "cell_type": "code",
   "execution_count": 1,
   "metadata": {
    "collapsed": false
   },
   "outputs": [
    {
     "name": "stdout",
     "output_type": "stream",
     "text": [
      "0.3616192241\n"
     ]
    }
   ],
   "source": [
    "from autodiff.forward import derivative\n",
    "from math import pi\n",
    "import dualnumbers.dmath as dmath\n",
    "\n",
    "\n",
    "fx = lambda x: dmath.sin(x) ** dmath.sin(x)\n",
    "\n",
    "print \"%.10f\" % (derivative(fx, 0, [pi/4]))"
   ]
  },
  {
   "cell_type": "markdown",
   "metadata": {},
   "source": [
    "$$f(x) = x^{2}2^x$$"
   ]
  },
  {
   "cell_type": "code",
   "execution_count": 2,
   "metadata": {
    "collapsed": false
   },
   "outputs": [
    {
     "name": "stdout",
     "output_type": "stream",
     "text": [
      "1.6592780982\n",
      "True\n"
     ]
    }
   ],
   "source": [
    "from autodiff.forward import derivative, check_derivative\n",
    "\n",
    "fx = lambda x: (x ** 2) * (2 ** x)\n",
    "\n",
    "ad_derivative = derivative(fx, 0, [0.5])\n",
    "\n",
    "print \"%.10f\" % (ad_derivative)\n",
    "print \"%s\" % (check_derivative(fx, 0, [0.5], ad_derivative))"
   ]
  },
  {
   "cell_type": "markdown",
   "metadata": {
    "collapsed": true
   },
   "source": [
    "### Multiple Variables Functions \n",
    "\n",
    "$$f(x,y,z) = \\sin(x^{y + z}) - 3z\\ln x^2y^3$$"
   ]
  },
  {
   "cell_type": "code",
   "execution_count": 3,
   "metadata": {
    "collapsed": false
   },
   "outputs": [
    {
     "name": "stdout",
     "output_type": "stream",
     "text": [
      "4.9716845517\n",
      "True\n"
     ]
    }
   ],
   "source": [
    "from autodiff.forward import derivative, check_derivative\n",
    "import dualnumbers.dmath as dmath\n",
    "\n",
    "\n",
    "f = lambda x,y,z: dmath.sin(x ** (y + z)) - 3 * z * dmath.log((x ** 2) * (y ** 3))\n",
    "ad_derivative = derivative(f, 1, [0.5, 4, -2.3])\n",
    "\n",
    "print \"%.10f\" % (ad_derivative)\n",
    "print \"%s\" % (check_derivative(f, 1, [0.5, 4, -2.3], ad_derivative))"
   ]
  },
  {
   "cell_type": "markdown",
   "metadata": {},
   "source": [
    "### Small Linear Regression Model"
   ]
  },
  {
   "cell_type": "code",
   "execution_count": 1,
   "metadata": {
    "collapsed": false
   },
   "outputs": [
    {
     "name": "stdout",
     "output_type": "stream",
     "text": [
      "Slope 1.44\n",
      "Intercept -0.73\n"
     ]
    }
   ],
   "source": [
    "import random\n",
    "from autodiff.forward import gradient\n",
    "\n",
    "target = lambda x: 1.4 * x - 0.7 # synthizing model\n",
    "\n",
    "# generating a synthetic dataset of 500 datapoints\n",
    "Xs = [random.uniform(0, 1) for _ in range(500)]\n",
    "ys = [target(x) + random.uniform(-1, 1) for x in Xs]  # target + noise\n",
    "\n",
    "def loss(slope, intercept, alpha):\n",
    "    loss_value = 0\n",
    "    for i in range(500):\n",
    "        loss_value += (ys[i] - (slope * Xs[i] + intercept)) ** 2\n",
    "    \n",
    "    return 0.002 * loss_value\n",
    "\n",
    "slope = 0.1\n",
    "intercept = 0\n",
    "learning_rate = 0.1\n",
    "\n",
    "for _ in range(10000):\n",
    "    grad = gradient(loss, [slope, intercept, 1])\n",
    "    \n",
    "    # update the parameters using gradient info\n",
    "    slope -= learning_rate * grad[0]\n",
    "    intercept -= learning_rate * grad[1]\n",
    "    \n",
    "# print the final values of the parameters\n",
    "print \"Slope %.2f\" % (slope)\n",
    "print \"Intercept %.2f\" % (intercept)"
   ]
  }
 ],
 "metadata": {
  "kernelspec": {
   "display_name": "Python 2",
   "language": "python",
   "name": "python2"
  },
  "language_info": {
   "codemirror_mode": {
    "name": "ipython",
    "version": 2
   },
   "file_extension": ".py",
   "mimetype": "text/x-python",
   "name": "python",
   "nbconvert_exporter": "python",
   "pygments_lexer": "ipython2",
   "version": "2.7.6"
  }
 },
 "nbformat": 4,
 "nbformat_minor": 0
}
