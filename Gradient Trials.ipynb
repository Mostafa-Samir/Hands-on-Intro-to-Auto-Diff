{
 "cells": [
  {
   "cell_type": "code",
   "execution_count": 1,
   "metadata": {},
   "outputs": [],
   "source": [
    "from compgraph.nodes import *\n",
    "import compgraph as cg\n",
    "import numpy as np"
   ]
  },
  {
   "cell_type": "markdown",
   "metadata": {},
   "source": [
    "# Finding out the correct implementation for `max_grad`"
   ]
  },
  {
   "cell_type": "markdown",
   "metadata": {},
   "source": [
    "## First Attempt"
   ]
  },
  {
   "cell_type": "code",
   "execution_count": 2,
   "metadata": {},
   "outputs": [],
   "source": [
    "def max(array, axis=None, keepdims=False, name=None):\n",
    "    if not isinstance(array, Node):\n",
    "        array = ConstantNode.create_using(array)\n",
    "    opvalue = np.max(array, axis=axis, keepdims=keepdims)\n",
    "    opnode = OperationalNode.create_using(opvalue, 'max', array, name=name)\n",
    "\n",
    "    return opnode\n",
    "\n",
    "def max_grad(prev_adjoint, node):\n",
    "    doperand_a = np.where(node.operand_a == node, 1, 0)\n",
    "    normalizers = np.sum(doperand_a, keepdims=True)\n",
    "    normalized_doperand_a = doperand_a / normalizers\n",
    "\n",
    "    return [prev_adjoint * normalized_doperand_a, None]"
   ]
  },
  {
   "cell_type": "markdown",
   "metadata": {},
   "source": [
    "### Works for an array like `[1, 4, 4]`"
   ]
  },
  {
   "cell_type": "code",
   "execution_count": 4,
   "metadata": {},
   "outputs": [
    {
     "name": "stdout",
     "output_type": "stream",
     "text": [
      "[array([0. , 0.5, 0.5]), None]\n"
     ]
    }
   ],
   "source": [
    "x = cg.variable(np.array([1, 4, 4]))\n",
    "max_x = max(x)\n",
    "print(max_grad(1., max_x))  # prints [array([0. , 0.5, 0.5]), None]"
   ]
  },
  {
   "cell_type": "markdown",
   "metadata": {},
   "source": [
    "### But doesn't work for `[[0, 1, 4], [0, 7, 1]]` along the first axis"
   ]
  },
  {
   "cell_type": "code",
   "execution_count": 7,
   "metadata": {},
   "outputs": [
    {
     "name": "stdout",
     "output_type": "stream",
     "text": [
      "[0 7 4]\n",
      "[array([[0.25, 0.  , 0.25],\n",
      "       [0.25, 0.25, 0.  ]]), None]\n"
     ]
    }
   ],
   "source": [
    "x = cg.variable(np.array([[0, 1, 4], [0, 7, 1]]))\n",
    "max_x = max(x, axis=0)\n",
    "print(max_x) # prints [0, 7, 4]\n",
    "\n",
    "\"\"\"\n",
    "prints\n",
    "[array([[0.25, 0.  , 0.25],\n",
    "        [0.25, 0.25, 0.  ]]), None]\n",
    "while it should print\n",
    "[array([[0.5, 0, 1],\n",
    "        [0.5, 1, 0]]), None]\n",
    "\"\"\"\n",
    "print(max_grad(1, max_x))"
   ]
  },
  {
   "cell_type": "markdown",
   "metadata": {},
   "source": [
    "## Second Attempt\n",
    "\n",
    "We save the axis along which the `max` is taken to use to in calculating the normalizers in the gradient"
   ]
  },
  {
   "cell_type": "code",
   "execution_count": 25,
   "metadata": {},
   "outputs": [],
   "source": [
    "def max(array, axis=None, keepdims=False, name=None):\n",
    "    if not isinstance(array, Node):\n",
    "        array = ConstantNode.create_using(array)\n",
    "    opvalue = np.max(array, axis=axis, keepdims=keepdims)\n",
    "    opnode = OperationalNode.create_using(opvalue, 'max', array, name=name)\n",
    "\n",
    "    # save info for gradient computation\n",
    "    opnode.axis = axis\n",
    "\n",
    "    return opnode\n",
    "\n",
    "def max_grad(prev_adjoint, node):\n",
    "    doperand_a = np.where(node.operand_a == node, 1, 0)\n",
    "    normalizers = np.sum(doperand_a, axis=node.axis, keepdims=True)\n",
    "    normalized_doperand_a = doperand_a / normalizers\n",
    "\n",
    "    return [prev_adjoint * normalized_doperand_a, None]"
   ]
  },
  {
   "cell_type": "markdown",
   "metadata": {},
   "source": [
    "### Now it works for `[[0, 1, 4], [0, 7, 1]]` along the first axis\n"
   ]
  },
  {
   "cell_type": "code",
   "execution_count": 26,
   "metadata": {},
   "outputs": [
    {
     "name": "stdout",
     "output_type": "stream",
     "text": [
      "[0 7 4]\n",
      "[array([[0.5, 0. , 1. ],\n",
      "       [0.5, 1. , 0. ]]), None]\n"
     ]
    }
   ],
   "source": [
    "x = cg.variable(np.array([[0, 1, 4], [0, 7, 1]]))\n",
    "max_x = max(x, axis=0)\n",
    "print(max_x) # prints [0, 7, 4]\n",
    "\n",
    "\"\"\"\n",
    "prints\n",
    "[array([[0.5, 0, 1],\n",
    "        [0.5, 1, 0]]), None]\n",
    "\"\"\"\n",
    "print(max_grad(1, max_x))"
   ]
  },
  {
   "cell_type": "markdown",
   "metadata": {},
   "source": [
    "### But it doesn't work when we shift the axis to `1`"
   ]
  },
  {
   "cell_type": "code",
   "execution_count": 31,
   "metadata": {},
   "outputs": [
    {
     "name": "stdout",
     "output_type": "stream",
     "text": [
      "[4 7]\n",
      "[array([[0., 0., 1.],\n",
      "       [0., 1., 0.]]), None]\n"
     ]
    }
   ],
   "source": [
    "max_x_1 = max(x, axis=1)\n",
    "print(max_x_1)\n",
    "\n",
    "print(max_grad(1, max_x_1))"
   ]
  },
  {
   "cell_type": "markdown",
   "metadata": {},
   "source": [
    "## Final Attempt"
   ]
  },
  {
   "cell_type": "code",
   "execution_count": 29,
   "metadata": {},
   "outputs": [],
   "source": [
    "def max(array, axis=None, keepdims=False, name=None):\n",
    "    if not isinstance(array, Node):\n",
    "        array = ConstantNode.create_using(array)\n",
    "    opvalue = np.max(array, axis=axis, keepdims=keepdims)\n",
    "    opnode = OperationalNode.create_using(opvalue, 'max', array, name=name)\n",
    "\n",
    "    # save info for gradient computation\n",
    "    opnode.axis = axis\n",
    "    opnode.with_keepdims = np.max(array, axis=axis, keepdims=True)\n",
    "\n",
    "    return opnode\n",
    "\n",
    "def max_grad(prev_adjoint, node):\n",
    "    doperand_a = np.where(node.operand_a == node.with_keepdims, 1, 0)\n",
    "    normalizers = np.sum(doperand_a, axis=node.axis, keepdims=True)\n",
    "    normalized_doperand_a = doperand_a / normalizers\n",
    "\n",
    "    return [prev_adjoint * normalized_doperand_a, None]"
   ]
  },
  {
   "cell_type": "markdown",
   "metadata": {},
   "source": [
    "### Now it works when we shift the axis to `1`"
   ]
  },
  {
   "cell_type": "code",
   "execution_count": 32,
   "metadata": {},
   "outputs": [
    {
     "name": "stdout",
     "output_type": "stream",
     "text": [
      "[4 7]\n",
      "[array([[0., 0., 1.],\n",
      "       [0., 1., 0.]]), None]\n"
     ]
    }
   ],
   "source": [
    "max_x_1 = max(x, axis=1)\n",
    "print(max_x_1)\n",
    "\n",
    "print(max_grad(1, max_x_1))"
   ]
  },
  {
   "cell_type": "code",
   "execution_count": null,
   "metadata": {},
   "outputs": [],
   "source": []
  }
 ],
 "metadata": {
  "kernelspec": {
   "display_name": "AD",
   "language": "python",
   "name": "ad"
  },
  "language_info": {
   "codemirror_mode": {
    "name": "ipython",
    "version": 3
   },
   "file_extension": ".py",
   "mimetype": "text/x-python",
   "name": "python",
   "nbconvert_exporter": "python",
   "pygments_lexer": "ipython3",
   "version": "3.6.8"
  }
 },
 "nbformat": 4,
 "nbformat_minor": 2
}
