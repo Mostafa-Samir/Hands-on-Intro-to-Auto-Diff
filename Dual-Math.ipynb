{
 "cells": [
  {
   "cell_type": "markdown",
   "metadata": {},
   "source": [
    "## Examples on Dual Math"
   ]
  },
  {
   "cell_type": "code",
   "execution_count": 1,
   "metadata": {
    "collapsed": true
   },
   "outputs": [],
   "source": [
    "from dualnumbers import DualNumber\n",
    "from dualnumbers.dmath import *"
   ]
  },
  {
   "cell_type": "markdown",
   "metadata": {},
   "source": [
    "### Addition/Subtraction"
   ]
  },
  {
   "cell_type": "code",
   "execution_count": 3,
   "metadata": {
    "collapsed": false
   },
   "outputs": [
    {
     "name": "stdout",
     "output_type": "stream",
     "text": [
      "(5.3 + 0.65ɛ) + (-3 + 1.2ɛ) = (2.3 + 1.85ɛ)\n",
      "(5.3 + 0.65ɛ) - (-3 + 1.2ɛ) = (8.3 - 0.55ɛ)\n",
      "(-3 + 1.2ɛ) + 10 = (7 + 1.2ɛ)\n",
      "5 - (5.3 + 0.65ɛ) = (-0.3 - 0.65ɛ)\n"
     ]
    }
   ],
   "source": [
    "x = DualNumber(5.3, 0.65)\n",
    "y = DualNumber(-3, 1.2)\n",
    "\n",
    "print \"(%s) + (%s) = (%s)\" % (x, y, x + y)\n",
    "print \"(%s) - (%s) = (%s)\" % (x, y, x - y)\n",
    "print \"(%s) + %s = (%s)\" % (y, 10, y + 10)\n",
    "print \"%s - (%s) = (%s)\" % (5, x, 5 - x)"
   ]
  },
  {
   "cell_type": "markdown",
   "metadata": {},
   "source": [
    "### Multiplication/Division"
   ]
  },
  {
   "cell_type": "code",
   "execution_count": 5,
   "metadata": {
    "collapsed": false
   },
   "outputs": [
    {
     "name": "stdout",
     "output_type": "stream",
     "text": [
      "(1 + 2.36ɛ) x (-6 + 5.2ɛ) = (-6 - 8.96ɛ)\n",
      "(1 + 2.36ɛ) / (-6 + 5.2ɛ) = (-0.166666666667 - 0.537777777778ɛ)\n",
      "(-6 + 5.2ɛ) x 3 = (-18 + 15.6ɛ)\n",
      "5 / (1 + 2.36ɛ) = (5.0 - 11.8ɛ)\n"
     ]
    }
   ],
   "source": [
    "x = DualNumber(1, 2.36)\n",
    "y = DualNumber(-6, 5.2)\n",
    "\n",
    "print \"(%s) x (%s) = (%s)\" % (x, y, x * y)\n",
    "print \"(%s) / (%s) = (%s)\" % (x, y, x / y)\n",
    "print \"(%s) x %s = (%s)\" % (y, 3, y * 3)\n",
    "print \"%s / (%s) = (%s)\" % (5, x, 5 / x)"
   ]
  },
  {
   "cell_type": "markdown",
   "metadata": {},
   "source": [
    "### Powers"
   ]
  },
  {
   "cell_type": "code",
   "execution_count": 7,
   "metadata": {
    "collapsed": false
   },
   "outputs": [
    {
     "name": "stdout",
     "output_type": "stream",
     "text": [
      "5 ^ (1 + 2.36ɛ) = (5 + 18.9913673667ɛ)\n",
      "(6 + 5.2ɛ) ^ 2 = (36 + 62.4ɛ)\n",
      "(6 + 5.2ɛ) ^ (1 + 2.36ɛ) = (6 + 30.5713140843ɛ)\n"
     ]
    }
   ],
   "source": [
    "x = DualNumber(1, 2.36)\n",
    "y = DualNumber(6, 5.2)\n",
    "\n",
    "print \"%s ^ (%s) = (%s)\" % (5, x, 5 ** x)\n",
    "print \"(%s) ^ %s = (%s)\" % (y, 2, y ** 2)\n",
    "print \"(%s) ^ (%s) = (%s)\" % (y, x, y ** x)"
   ]
  },
  {
   "cell_type": "markdown",
   "metadata": {},
   "source": [
    "### Mathematical Functions"
   ]
  },
  {
   "cell_type": "code",
   "execution_count": 9,
   "metadata": {
    "collapsed": false
   },
   "outputs": [
    {
     "name": "stdout",
     "output_type": "stream",
     "text": [
      "log(2 + 1.6ɛ) = 0.69314718056 + 0.8ɛ\n",
      "sin(2 + 1.6ɛ) = 0.909297426826 - 0.665834938475ɛ\n",
      "cos(2 + 1.6ɛ) = -0.416146836547 - 1.45487588292ɛ\n",
      "tan(2 + 1.6ɛ) = -2.18503986326 + 9.23903872647ɛ\n",
      "exp(2 + 1.6ɛ) = 7.38905609893 + 11.8224897583ɛ\n",
      "sqrt(2 + 1.6ɛ) = 1.41421356237 + 0.565685424949ɛ\n"
     ]
    }
   ],
   "source": [
    "x = DualNumber(2, 1.6)\n",
    "\n",
    "print \"log(%s) = %s\" % (x, log(x))\n",
    "print \"sin(%s) = %s\" % (x, sin(x))\n",
    "print \"cos(%s) = %s\" % (x, cos(x))\n",
    "print \"tan(%s) = %s\" % (x, tan(x))\n",
    "print \"exp(%s) = %s\" % (x, exp(x))\n",
    "print \"sqrt(%s) = %s\" % (x, sqrt(x))"
   ]
  }
 ],
 "metadata": {
  "kernelspec": {
   "display_name": "Python 2",
   "language": "python",
   "name": "python2"
  },
  "language_info": {
   "codemirror_mode": {
    "name": "ipython",
    "version": 2
   },
   "file_extension": ".py",
   "mimetype": "text/x-python",
   "name": "python",
   "nbconvert_exporter": "python",
   "pygments_lexer": "ipython2",
   "version": "2.7.6"
  }
 },
 "nbformat": 4,
 "nbformat_minor": 0
}
